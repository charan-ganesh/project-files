{
 "cells": [
  {
   "cell_type": "code",
   "execution_count": 5,
   "metadata": {
    "scrolled": true
   },
   "outputs": [
    {
     "name": "stdout",
     "output_type": "stream",
     "text": [
      "Enter a string:charan\n",
      "charan\n",
      "given string count is 6\n"
     ]
    }
   ],
   "source": [
    "string=input(\"Enter a string:\")\n",
    "print(string)\n",
    "count=0;\n",
    "for i in string:\n",
    "    count=count+1;\n",
    "print(\"given string count is\", count);"
   ]
  },
  {
   "cell_type": "code",
   "execution_count": 4,
   "metadata": {},
   "outputs": [
    {
     "name": "stdout",
     "output_type": "stream",
     "text": [
      "c\n",
      "h\n",
      "a\n",
      "r\n",
      "a\n",
      "n\n",
      " \n",
      "g\n",
      "a\n",
      "n\n",
      "e\n",
      "s\n",
      "h\n"
     ]
    }
   ],
   "source": [
    "p=\"charan ganesh\"\n",
    "for i in p:\n",
    "    print(i)"
   ]
  },
  {
   "cell_type": "code",
   "execution_count": 9,
   "metadata": {},
   "outputs": [
    {
     "name": "stdout",
     "output_type": "stream",
     "text": [
      "charan ganesh\n",
      "count: 13\n"
     ]
    }
   ],
   "source": [
    "p=input()\n",
    "co =0\n",
    "for h in p:\n",
    "    co+=1;\n",
    "print(\"count: {}\".format(co))"
   ]
  },
  {
   "cell_type": "code",
   "execution_count": 12,
   "metadata": {},
   "outputs": [
    {
     "name": "stdout",
     "output_type": "stream",
     "text": [
      "13\n",
      "2\n"
     ]
    }
   ],
   "source": [
    "m=\"charan ganesh\"\n",
    "def char():\n",
    "    c=0\n",
    "    for i in m:\n",
    "        c+=1\n",
    "    print(c)\n",
    "def word():\n",
    "    r=0\n",
    "    r=len(m.split())\n",
    "    print(r)\n",
    "char() \n",
    "word()"
   ]
  },
  {
   "cell_type": "code",
   "execution_count": 21,
   "metadata": {},
   "outputs": [
    {
     "name": "stdout",
     "output_type": "stream",
     "text": [
      "charan ganesh\n",
      "{'g', 's', 'c', 'r', ' ', 'e', 'a', 'h', 'n'}\n",
      "g => 1\n",
      "s => 1\n",
      "c => 1\n",
      "r => 1\n",
      "  => 1\n",
      "e => 1\n",
      "a => 3\n",
      "h => 2\n",
      "n => 2\n"
     ]
    }
   ],
   "source": [
    "m=input()\n",
    "print(set(m))\n",
    "for ak in set(m):\n",
    "    if ak in m:\n",
    "        print(ak,\"=>\",m.count(ak))"
   ]
  },
  {
   "cell_type": "code",
   "execution_count": 22,
   "metadata": {},
   "outputs": [
    {
     "name": "stdout",
     "output_type": "stream",
     "text": [
      "charan ganesh\n",
      "[' ', 'a', 'c', 'e', 'g', 'h', 'n', 'r', 's']\n"
     ]
    }
   ],
   "source": [
    "m=input()\n",
    "k=list(set(m))\n",
    "k.sort()\n",
    "print(k)"
   ]
  },
  {
   "cell_type": "code",
   "execution_count": 8,
   "metadata": {},
   "outputs": [
    {
     "name": "stdout",
     "output_type": "stream",
     "text": [
      "10\n",
      "10\n",
      "10\n",
      "10\n"
     ]
    }
   ],
   "source": [
    "def fact(x):\n",
    "   # print(x)\n",
    "    for i in range(1,x+1):\n",
    "        if(x%i==0):\n",
    "            print(x)\n",
    "n=10\n",
    "fact(n)"
   ]
  },
  {
   "cell_type": "code",
   "execution_count": 7,
   "metadata": {},
   "outputs": [
    {
     "name": "stdout",
     "output_type": "stream",
     "text": [
      " 2   3   5   7   11   13   17   19   23   29   31   37   41   43   47   53   59   61   67   71   73   79   83   89   97  "
     ]
    }
   ],
   "source": [
    "# Python Program to print Prime Numbers from 1 to 100\n",
    " \n",
    "for n in range (1, 101):\n",
    "    count = 0\n",
    "    for i in range(2, (n//2 + 1)):\n",
    "        if(n % i == 0):\n",
    "            count = count + 1\n",
    "            break\n",
    "\n",
    "    if (count == 0 and n != 1):\n",
    "        print(\" %d\" %n, end = '  ')"
   ]
  },
  {
   "cell_type": "code",
   "execution_count": 4,
   "metadata": {
    "scrolled": true
   },
   "outputs": [
    {
     "name": "stdout",
     "output_type": "stream",
     "text": [
      "Find sum of prime numbers upto : 10\n",
      "\n",
      "Sum of all prime numbers upto 10 : 15\n"
     ]
    }
   ],
   "source": [
    " # sum of all prime\n",
    "upto = int(input(\"Find sum of prime numbers upto : \"))\n",
    "\n",
    "sum = 0\n",
    "\n",
    "for n in range(2, upto + 1):\n",
    "\n",
    "    i = 2\n",
    "    \n",
    "    for i in range(2, n):\n",
    "        if (int(n % i) == 0):\n",
    "            i = n\n",
    "            break;\n",
    "\n",
    "    #If the number is prime then add it.\n",
    "    if i is not n:\n",
    "        sum += n\n",
    "\n",
    "print(\"\\nSum of all prime numbers upto\", upto, \":\", sum)\n"
   ]
  },
  {
   "cell_type": "code",
   "execution_count": 14,
   "metadata": {},
   "outputs": [
    {
     "name": "stdout",
     "output_type": "stream",
     "text": [
      "enter a number15\n",
      "given number factors are [1, 3, 5, 15]\n",
      "second largest factor is 5\n",
      "second smallest factor is 3\n",
      "sum of factors are:\n"
     ]
    },
    {
     "ename": "TypeError",
     "evalue": "'int' object is not callable",
     "output_type": "error",
     "traceback": [
      "\u001b[1;31m---------------------------------------------------------------------------\u001b[0m",
      "\u001b[1;31mTypeError\u001b[0m                                 Traceback (most recent call last)",
      "\u001b[1;32m<ipython-input-14-23abe970318b>\u001b[0m in \u001b[0;36m<module>\u001b[1;34m\u001b[0m\n\u001b[0;32m     15\u001b[0m \u001b[1;31m# sum of factors are\u001b[0m\u001b[1;33m\u001b[0m\u001b[1;33m\u001b[0m\u001b[1;33m\u001b[0m\u001b[0m\n\u001b[0;32m     16\u001b[0m \u001b[0mprint\u001b[0m\u001b[1;33m(\u001b[0m\u001b[1;34m\"sum of factors are:\"\u001b[0m\u001b[1;33m)\u001b[0m\u001b[1;33m\u001b[0m\u001b[1;33m\u001b[0m\u001b[0m\n\u001b[1;32m---> 17\u001b[1;33m \u001b[0mprint\u001b[0m\u001b[1;33m(\u001b[0m\u001b[0msum\u001b[0m\u001b[1;33m(\u001b[0m\u001b[0mrs\u001b[0m\u001b[1;33m)\u001b[0m\u001b[1;33m)\u001b[0m\u001b[1;33m\u001b[0m\u001b[1;33m\u001b[0m\u001b[0m\n\u001b[0m",
      "\u001b[1;31mTypeError\u001b[0m: 'int' object is not callable"
     ]
    }
   ],
   "source": [
    "# task--> wap to find second largest factor of given number\n",
    "def numoffactors(n):\n",
    "    for i in range(1,n+1):\n",
    "        if n%i==0:\n",
    "            # print(i,end=\",\")\n",
    "            facts.append(i)\n",
    "    return facts\n",
    "            \n",
    "facts=[]        \n",
    "num=int(input(\"enter a number\"))\n",
    "rs=numoffactors(num)\n",
    "print(\"given number factors are\",rs)\n",
    "print(\"second largest factor is\",rs[-2])\n",
    "print(\"second smallest factor is\",rs[1])\n",
    "# sum of factors are\n",
    "print(\"sum of factors are:\")\n",
    "print(sum(rs))"
   ]
  },
  {
   "cell_type": "code",
   "execution_count": 20,
   "metadata": {},
   "outputs": [
    {
     "data": {
      "text/plain": [
       "False"
      ]
     },
     "execution_count": 20,
     "metadata": {},
     "output_type": "execute_result"
    }
   ],
   "source": [
    "# wap to find largest and smallest pirme b/w 1 to100\n",
    "def isprime(n):\n",
    "    for i in range(2,n):\n",
    "        if n%i==0:\n",
    "            return False\n",
    "    return True\n",
    "for i in range(2,n):\n",
    "    if n%"
   ]
  },
  {
   "cell_type": "code",
   "execution_count": null,
   "metadata": {},
   "outputs": [],
   "source": []
  }
 ],
 "metadata": {
  "kernelspec": {
   "display_name": "Python 3",
   "language": "python",
   "name": "python3"
  },
  "language_info": {
   "codemirror_mode": {
    "name": "ipython",
    "version": 3
   },
   "file_extension": ".py",
   "mimetype": "text/x-python",
   "name": "python",
   "nbconvert_exporter": "python",
   "pygments_lexer": "ipython3",
   "version": "3.7.4"
  }
 },
 "nbformat": 4,
 "nbformat_minor": 4
}
