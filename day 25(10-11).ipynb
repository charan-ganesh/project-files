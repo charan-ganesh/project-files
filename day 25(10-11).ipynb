{
 "cells": [
  {
   "cell_type": "markdown",
   "metadata": {},
   "source": [
    "# few more ways of implementing functions in python\n",
    "- default arguments\n",
    "-keyword argument\n",
    "-required agument\n",
    "-arguments length"
   ]
  },
  {
   "cell_type": "code",
   "execution_count": null,
   "metadata": {},
   "outputs": [],
   "source": [
    "#  default argument\n",
    "# range(start,end,encre/decre)\n",
    "# print(end=\"/n\")"
   ]
  },
  {
   "cell_type": "code",
   "execution_count": 9,
   "metadata": {},
   "outputs": [
    {
     "name": "stdout",
     "output_type": "stream",
     "text": [
      "4 5\n",
      "9\n"
     ]
    }
   ],
   "source": [
    "# keyword\n",
    "# ex:print(end='/n'......end=\" \")\n",
    "def add1(n1=0,n2=0):\n",
    "    print(n1,n2)\n",
    "    return n1+n2\n",
    "\n",
    "print(add1(n1 = 4,n2 = 5))"
   ]
  },
  {
   "cell_type": "code",
   "execution_count": null,
   "metadata": {},
   "outputs": [],
   "source": []
  }
 ],
 "metadata": {
  "kernelspec": {
   "display_name": "Python 3",
   "language": "python",
   "name": "python3"
  },
  "language_info": {
   "codemirror_mode": {
    "name": "ipython",
    "version": 3
   },
   "file_extension": ".py",
   "mimetype": "text/x-python",
   "name": "python",
   "nbconvert_exporter": "python",
   "pygments_lexer": "ipython3",
   "version": "3.7.4"
  }
 },
 "nbformat": 4,
 "nbformat_minor": 4
}
