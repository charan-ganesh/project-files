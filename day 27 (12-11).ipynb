{
 "cells": [
  {
   "cell_type": "markdown",
   "metadata": {},
   "source": [
    " ->use of this hidding data like packages\n",
    " ->opps provides better security\n",
    " #properties\n",
    "- class\n",
    " -object\n",
    " -methods\n",
    " -polymorphism\n",
    " -encapusaltion\n",
    " -abstraction"
   ]
  },
  {
   "cell_type": "code",
   "execution_count": null,
   "metadata": {},
   "outputs": [],
   "source": [
    "## class\n",
    "-class is blue print of object\n",
    "-class is collection of member variables(object) and member function(methods\n",
    " class class_name()\n",
    "       member variable\n",
    "       membe functions\n",
    " ....                                                                    ..."
   ]
  },
  {
   "cell_type": "code",
   "execution_count": 2,
   "metadata": {},
   "outputs": [
    {
     "name": "stdout",
     "output_type": "stream",
     "text": [
      "<class 'int'>\n"
     ]
    }
   ],
   "source": [
    "a=10\n",
    "print(type(a)) #class int --->int type in class so here varibles are object type"
   ]
  },
  {
   "cell_type": "code",
   "execution_count": 4,
   "metadata": {},
   "outputs": [
    {
     "name": "stdout",
     "output_type": "stream",
     "text": [
      "charan\n",
      "180\n",
      "i am from details\n"
     ]
    }
   ],
   "source": [
    "class Myinfo:\n",
    "    name=\"charan\" # member varibles\n",
    "    pin=180\n",
    "    \n",
    "    def details():  # member method\n",
    "        print(\"i am from details\")\n",
    "        \n",
    "print(Myinfo.name)\n",
    "print(Myinfo.pin)       \n",
    "Myinfo.details()     "
   ]
  },
  {
   "cell_type": "markdown",
   "metadata": {},
   "source": [
    "# object\n",
    "-instance of a class\n",
    "-real time entry"
   ]
  },
  {
   "cell_type": "code",
   "execution_count": 6,
   "metadata": {},
   "outputs": [
    {
     "name": "stdout",
     "output_type": "stream",
     "text": [
      "charan\n",
      "180\n",
      "i am from details\n",
      "None\n"
     ]
    }
   ],
   "source": [
    "class Myinfo:\n",
    "    name=\"charan\" # member varibles\n",
    "    pin=180\n",
    "    \n",
    "    def details():  # member method\n",
    "        print(\"i am from details\")\n",
    "        \n",
    "obj=Myinfo\n",
    "print(obj.name)\n",
    "print(obj.pin)\n",
    "print(obj.details())"
   ]
  },
  {
   "cell_type": "markdown",
   "metadata": {},
   "source": [
    "## constructor:\n",
    "- without using object we will call constructor method(when object is created)\n",
    "- in python__init__(self) method will work as a constructor\n",
    "- default and parametered"
   ]
  },
  {
   "cell_type": "code",
   "execution_count": 16,
   "metadata": {
    "scrolled": true
   },
   "outputs": [
    {
     "name": "stdout",
     "output_type": "stream",
     "text": [
      "11\n",
      "\n",
      "    a=10\n",
      "    hi welcome to Mymath class,\n",
      "    here we implemented add() for that add u have to pass two parameters.\n",
      "    \n"
     ]
    }
   ],
   "source": [
    "class Mymath:\n",
    "    '''\n",
    "    a=10\n",
    "    hi welcome to Mymath class,\n",
    "    here we implemented add() for that add u have to pass two parameters.\n",
    "    '''\n",
    "    def add(n1,n2):\n",
    "        return n1+n2\n",
    "obj=Mymath\n",
    "print(obj.add(5,6))\n",
    "print(obj.__doc__)"
   ]
  },
  {
   "cell_type": "code",
   "execution_count": 18,
   "metadata": {},
   "outputs": [
    {
     "name": "stdout",
     "output_type": "stream",
     "text": [
      "11\n",
      "-1\n",
      "30\n",
      "\n",
      "    a=10\n",
      "    hi welcome to Mymath class,\n",
      "    here we implemented add() for that add u have to pass two parameters.\n",
      "    \n"
     ]
    }
   ],
   "source": [
    "class Mymath:\n",
    "    '''\n",
    "    a=10\n",
    "    hi welcome to Mymath class,\n",
    "    here we implemented add() for that add u have to pass two parameters.\n",
    "    '''\n",
    "    def add(n1,n2):\n",
    "        return n1+n2\n",
    "    def sub(n1,n2):\n",
    "        return n1-n2\n",
    "    def mul(n1,n2):\n",
    "        return n1*n2\n",
    "obj=Mymath\n",
    "print(obj.add(5,6))\n",
    "print(obj.sub(5,6))\n",
    "print(obj.mul(5,6))\n",
    "print(obj.__doc__)"
   ]
  },
  {
   "cell_type": "code",
   "execution_count": 25,
   "metadata": {},
   "outputs": [
    {
     "name": "stdout",
     "output_type": "stream",
     "text": [
      "5  9\n"
     ]
    },
    {
     "ename": "AttributeError",
     "evalue": "'Mymath' object has no attribute 'add'",
     "output_type": "error",
     "traceback": [
      "\u001b[1;31m---------------------------------------------------------------------------\u001b[0m",
      "\u001b[1;31mAttributeError\u001b[0m                            Traceback (most recent call last)",
      "\u001b[1;32m<ipython-input-25-0ba3029dc8ee>\u001b[0m in \u001b[0;36m<module>\u001b[1;34m\u001b[0m\n\u001b[0;32m     14\u001b[0m \u001b[1;33m\u001b[0m\u001b[0m\n\u001b[0;32m     15\u001b[0m \u001b[0mobj\u001b[0m\u001b[1;33m=\u001b[0m\u001b[0mMymath\u001b[0m\u001b[1;33m(\u001b[0m\u001b[1;36m5\u001b[0m\u001b[1;33m,\u001b[0m\u001b[1;36m9\u001b[0m\u001b[1;33m)\u001b[0m\u001b[1;33m\u001b[0m\u001b[1;33m\u001b[0m\u001b[0m\n\u001b[1;32m---> 16\u001b[1;33m \u001b[0mprint\u001b[0m\u001b[1;33m(\u001b[0m\u001b[0mobj\u001b[0m\u001b[1;33m.\u001b[0m\u001b[0madd\u001b[0m\u001b[1;33m(\u001b[0m\u001b[1;33m)\u001b[0m\u001b[1;33m)\u001b[0m\u001b[1;33m\u001b[0m\u001b[1;33m\u001b[0m\u001b[0m\n\u001b[0m",
      "\u001b[1;31mAttributeError\u001b[0m: 'Mymath' object has no attribute 'add'"
     ]
    }
   ],
   "source": [
    "class Mymath:\n",
    "    '''\n",
    "    a=10\n",
    "    hi welcome to Mymath class,\n",
    "    here we implemented add() for that add u have to pass two parameters.\n",
    "    '''\n",
    "    def __init__(self,n1,n2): # first parameter is acts as self\n",
    "        self.n1=n1\n",
    "        self.n2=n2\n",
    "        print(self.n1,'',self.n2)\n",
    "        \n",
    "        def add(self):\n",
    "            return self.n1+self.n2\n",
    "\n",
    "obj=Mymath(5,9)\n",
    "print(obj.add())"
   ]
  },
  {
   "cell_type": "code",
   "execution_count": null,
   "metadata": {},
   "outputs": [],
   "source": []
  }
 ],
 "metadata": {
  "kernelspec": {
   "display_name": "Python 3",
   "language": "python",
   "name": "python3"
  },
  "language_info": {
   "codemirror_mode": {
    "name": "ipython",
    "version": 3
   },
   "file_extension": ".py",
   "mimetype": "text/x-python",
   "name": "python",
   "nbconvert_exporter": "python",
   "pygments_lexer": "ipython3",
   "version": "3.7.4"
  }
 },
 "nbformat": 4,
 "nbformat_minor": 4
}
