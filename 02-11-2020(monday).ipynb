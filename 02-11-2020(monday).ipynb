{
 "cells": [
  {
   "cell_type": "code",
   "execution_count": 9,
   "metadata": {},
   "outputs": [
    {
     "name": "stdout",
     "output_type": "stream",
     "text": [
      "p y t h o n   p r o g r a m m i n g "
     ]
    }
   ],
   "source": [
    "# find number of characters in a given string without using len(length)\n",
    "# u have to read string from user i.e python programming\n",
    "# count = 18\n",
    "p = \"python programming\"\n",
    "for i in p:\n",
    "    print(i,end=' ')"
   ]
  },
  {
   "cell_type": "code",
   "execution_count": 10,
   "metadata": {},
   "outputs": [
    {
     "name": "stdout",
     "output_type": "stream",
     "text": [
      "count:18\n"
     ]
    }
   ],
   "source": [
    "p = \"python programming\"\n",
    "co = 0\n",
    "for i in p:\n",
    "    co += 1\n",
    "print(\"count:{}\".format(co))"
   ]
  },
  {
   "cell_type": "code",
   "execution_count": 11,
   "metadata": {},
   "outputs": [
    {
     "name": "stdout",
     "output_type": "stream",
     "text": [
      "python\n",
      "count:6\n"
     ]
    }
   ],
   "source": [
    "p = input()\n",
    "co = 0\n",
    "for i in p:\n",
    "    co += 1\n",
    "print(\"count:{}\".format(co))"
   ]
  },
  {
   "cell_type": "code",
   "execution_count": 26,
   "metadata": {},
   "outputs": [
    {
     "name": "stdout",
     "output_type": "stream",
     "text": [
      "5\n"
     ]
    }
   ],
   "source": [
    "p = \"This is python internship program\"\n",
    "#words=>5\n",
    "no of characters in a word:\n",
    "#characters count=>?\n",
    "#vowels=>4\n",
    "#a-->1\n",
    "#e-->1\n",
    "#i-->3\n",
    "#o-->2\n",
    "#co = 0\n",
    "#for i in p:\n",
    " #   co += 1\n",
    "#print(\"count:{}\".words(p))\n",
    "res = len(p.split()) \n",
    "print(res)"
   ]
  },
  {
   "cell_type": "code",
   "execution_count": 23,
   "metadata": {},
   "outputs": [
    {
     "name": "stdout",
     "output_type": "stream",
     "text": [
      "7\n"
     ]
    }
   ],
   "source": [
    "s = 'I am having a very nice day.'\n",
    "res=len(s.split())\n",
    "print(res)"
   ]
  },
  {
   "cell_type": "code",
   "execution_count": 27,
   "metadata": {},
   "outputs": [
    {
     "name": "stdout",
     "output_type": "stream",
     "text": [
      "{'g', 'y', 'n', 't', 'a', 'p', 'i', 'h', 'o', ' ', 'r', 'm'}\n"
     ]
    }
   ],
   "source": [
    "mn = \"python programming\"\n",
    "print(set(mn))"
   ]
  },
  {
   "cell_type": "code",
   "execution_count": 29,
   "metadata": {},
   "outputs": [
    {
     "name": "stdout",
     "output_type": "stream",
     "text": [
      "[' ', 'a', 'g', 'h', 'i', 'm', 'n', 'o', 'p', 'r', 't', 'y']\n"
     ]
    }
   ],
   "source": [
    "mn = \"python programming\"\n",
    "kw = list(set(mn))\n",
    "kw.sort()\n",
    "print(kw)"
   ]
  },
  {
   "cell_type": "code",
   "execution_count": 30,
   "metadata": {},
   "outputs": [
    {
     "name": "stdout",
     "output_type": "stream",
     "text": [
      "{'g', 'y', 'n', 't', 'a', 'p', 'i', 'h', 'o', ' ', 'r', 'm'}\n"
     ]
    }
   ],
   "source": [
    "mn = \"python programming\"\n",
    "kw = set(mn)\n",
    "#kw.sort()\n",
    "print(kw)"
   ]
  },
  {
   "cell_type": "code",
   "execution_count": 32,
   "metadata": {},
   "outputs": [
    {
     "name": "stdout",
     "output_type": "stream",
     "text": [
      "g\n",
      "y\n",
      "n\n",
      "t\n",
      "a\n",
      "p\n",
      "i\n",
      "h\n",
      "o\n",
      " \n",
      "r\n",
      "m\n"
     ]
    }
   ],
   "source": [
    "mn = \"python programming\"\n",
    "kw = list(set(mn))\n",
    "for ak in kw:\n",
    "    print(ak)\n",
    "#kw.sort()\n",
    "#print(kw)"
   ]
  },
  {
   "cell_type": "code",
   "execution_count": 33,
   "metadata": {},
   "outputs": [
    {
     "name": "stdout",
     "output_type": "stream",
     "text": [
      "{'g', 'y', 'n', 't', 'a', 'p', 'i', 'h', 'o', ' ', 'r', 'm'}\n",
      "g y n t a p i h o   r m "
     ]
    }
   ],
   "source": [
    "mn = \"python programming\"\n",
    "print(set(mn))\n",
    "#kw = list(set(mn))\n",
    "for ak in set(mn):\n",
    "    if ak in mn:\n",
    "        print(ak,end=\" \")"
   ]
  },
  {
   "cell_type": "code",
   "execution_count": 1,
   "metadata": {},
   "outputs": [
    {
     "name": "stdout",
     "output_type": "stream",
     "text": [
      "<class 'dict'>\n"
     ]
    }
   ],
   "source": [
    "k = {}\n",
    "print(type(k))"
   ]
  },
  {
   "cell_type": "code",
   "execution_count": 2,
   "metadata": {},
   "outputs": [
    {
     "name": "stdout",
     "output_type": "stream",
     "text": [
      "<class 'set'>\n"
     ]
    }
   ],
   "source": [
    "y = set()\n",
    "print(type(y))"
   ]
  },
  {
   "cell_type": "code",
   "execution_count": 4,
   "metadata": {},
   "outputs": [
    {
     "name": "stdout",
     "output_type": "stream",
     "text": [
      "<class 'dict'>\n"
     ]
    }
   ],
   "source": [
    "k = {'k':5}\n",
    "print(type(k))"
   ]
  },
  {
   "cell_type": "code",
   "execution_count": 5,
   "metadata": {},
   "outputs": [],
   "source": [
    "m = \"daaaaabccc\"\n",
    "dq = {}\n",
    "for k in m:\n",
    "    dq[k]=m.count(k)\n",
    "    "
   ]
  },
  {
   "cell_type": "code",
   "execution_count": 6,
   "metadata": {},
   "outputs": [
    {
     "data": {
      "text/plain": [
       "{'d': 1, 'a': 5, 'b': 1, 'c': 3}"
      ]
     },
     "execution_count": 6,
     "metadata": {},
     "output_type": "execute_result"
    }
   ],
   "source": [
    "dq"
   ]
  },
  {
   "cell_type": "code",
   "execution_count": 8,
   "metadata": {},
   "outputs": [
    {
     "name": "stdout",
     "output_type": "stream",
     "text": [
      "d => 1\n",
      "a => 5\n",
      "b => 1\n",
      "c => 3\n"
     ]
    }
   ],
   "source": [
    "m = \"daaaaabccc\"\n",
    "dq = {}\n",
    "for k in m:\n",
    "    dq[k]=m.count(k)\n",
    "for i,j in dq.items():\n",
    "    print(i,'=>',j)"
   ]
  },
  {
   "cell_type": "code",
   "execution_count": null,
   "metadata": {},
   "outputs": [],
   "source": [
    "## 1) WAP to count the number of factors of a given number\n",
    "## 2) WAP to find second largest factor of given number\n",
    "## 3) WAP to find second smallest factor of a given number\n",
    "## 4) WAP to count all the prime nums between 1 to 100\n",
    "## 5) WAP to find sum of all prime nums between 1 to 100\n",
    "## 6) WAP to find largest and smallest prime number between 1 to 100"
   ]
  },
  {
   "cell_type": "code",
   "execution_count": null,
   "metadata": {},
   "outputs": [],
   "source": []
  },
  {
   "cell_type": "code",
   "execution_count": 8,
   "metadata": {},
   "outputs": [
    {
     "name": "stdout",
     "output_type": "stream",
     "text": [
      "5\n",
      "5\n"
     ]
    }
   ],
   "source": [
    "def fact(x):\n",
    "   # print(x)\n",
    "    for i in range(1,x+1):\n",
    "        if(x%i==0):\n",
    "            print(x)\n",
    "n=5\n",
    "fact(n)"
   ]
  },
  {
   "cell_type": "code",
   "execution_count": 10,
   "metadata": {},
   "outputs": [
    {
     "name": "stdout",
     "output_type": "stream",
     "text": [
      " 2   3   5   7   11   13   17   19   23   29   31   37   41   43   47   53   59   61   67   71   73   79   83   89   97  "
     ]
    }
   ],
   "source": [
    "# Python Program to print Prime Numbers from 1 to 100\n",
    " \n",
    "for n in range (1, 101):\n",
    "    count = 0\n",
    "    for i in range(2, (n//2 + 1)):\n",
    "        if(n % i == 0):\n",
    "            count = count + 1\n",
    "            break\n",
    "\n",
    "    if (count == 0 and n != 1):\n",
    "        print(\" %d\"%n,  end = '  ')"
   ]
  },
  {
   "cell_type": "code",
   "execution_count": 7,
   "metadata": {},
   "outputs": [
    {
     "name": "stdout",
     "output_type": "stream",
     "text": [
      "Find sum of prime numbers upto : 100\n",
      "\n",
      "Sum of all prime numbers upto 100 : 1058\n"
     ]
    }
   ],
   "source": [
    "# sum of all prime\n",
    "upto = int(input(\"Find sum of prime numbers upto : \"))\n",
    "\n",
    "sum = 0\n",
    "\n",
    "for n in range(2, upto + 1):\n",
    "\n",
    "    i = 2\n",
    "    \n",
    "    for i in range(2, n):\n",
    "        if (int(n % i) == 0):\n",
    "            i = n\n",
    "            break;\n",
    "\n",
    "    #If the number is prime then add it.\n",
    "    if i is not n:\n",
    "        sum += n\n",
    "\n",
    "print(\"\\nSum of all prime numbers upto\", upto, \":\", sum)"
   ]
  },
  {
   "cell_type": "code",
   "execution_count": 11,
   "metadata": {},
   "outputs": [
    {
     "name": "stdout",
     "output_type": "stream",
     "text": [
      "Largest element is: 45\n",
      "Smallest element is: 2\n",
      "Second Largest element is: 41\n",
      "Second Smallest element is: 4\n"
     ]
    }
   ],
   "source": [
    "def find_len(list1): \n",
    "    length = len(list1) \n",
    "    list1.sort() \n",
    "    print(\"Largest element is:\", list1[length-1]) \n",
    "    print(\"Smallest element is:\", list1[0]) \n",
    "    print(\"Second Largest element is:\", list1[length-2]) \n",
    "    print(\"Second Smallest element is:\", list1[1]) \n",
    "list1=[12, 45, 2, 41, 31, 10, 8, 6, 4] #after sorted --> 2  4  6  8  12  31  41  45 \n",
    "Largest = find_len(list1) "
   ]
  },
  {
   "cell_type": "code",
   "execution_count": 6,
   "metadata": {},
   "outputs": [
    {
     "name": "stdout",
     "output_type": "stream",
     "text": [
      "enter a number15\n",
      "second largest num: 5\n"
     ]
    }
   ],
   "source": [
    "#task2   WAP to find second largest factor of given number\n",
    "# read num from user\n",
    "# need to find all factors of a given num\n",
    "# ex:4,-->1,2,4\n",
    "# find second largest num\n",
    "\n",
    "def numofFactors(n):\n",
    "    for i in range(1,n+1):\n",
    "        if n % i == 0:\n",
    "            #print(i,end=\" ,\")\n",
    "            facts.append(i)\n",
    "    return facts\n",
    "\n",
    "facts = []            \n",
    "num = int(input(\"enter a number=\"))\n",
    "rs = numofFactors(num)\n",
    "#print(rs)\n",
    "print(\"second largest num:\",rs[-2])"
   ]
  },
  {
   "cell_type": "code",
   "execution_count": null,
   "metadata": {},
   "outputs": [],
   "source": [
    "def numofFactors(n):\n",
    "    for i in range(1,n+1):\n",
    "        if n % i == 0:\n",
    "            #print(i,end=\" ,\")\n",
    "            facts.append(i)\n",
    "    return facts\n",
    "\n",
    "facts = []            \n",
    "num = int(input(\"enter a number=\"))\n",
    "rs = numofFactors(num)\n",
    "#print(rs)\n",
    "print(\"second largest num:\",rs[-2])\n",
    "print(\"second smallese factor\",rs[1])\n",
    "print(\"sum of factors=\",sum(rs))\n",
    "print(\"avg of factors=\",)"
   ]
  },
  {
   "cell_type": "code",
   "execution_count": 1,
   "metadata": {},
   "outputs": [
    {
     "data": {
      "text/plain": [
       "True"
      ]
     },
     "execution_count": 1,
     "metadata": {},
     "output_type": "execute_result"
    }
   ],
   "source": [
    "## 6) WAP to find largest and smallest prime number between 1 to 100\n",
    "# need to implement prime function\n",
    "# store all primes which are comming from prim()\n",
    "# finding largest and smallest prime numbers\n",
    "\n",
    "def isPrime(n): #if num have 2 factors(1 & itself) is prime\n",
    "    for i in range(2,n):\n",
    "        if n%i==0:\n",
    "            return False\n",
    "        return True\n",
    "isPrime(7)\n",
    "# it iterates 5 times it ignores 1,7(2,3,4,5,6)    "
   ]
  },
  {
   "cell_type": "code",
   "execution_count": 3,
   "metadata": {},
   "outputs": [
    {
     "data": {
      "text/plain": [
       "False"
      ]
     },
     "execution_count": 3,
     "metadata": {},
     "output_type": "execute_result"
    }
   ],
   "source": [
    "def isPrime(n): #if num have 2 factors(1 & itself) is prime\n",
    "    if n==1:\n",
    "        return False\n",
    "    \n",
    "    for i in range(2,n):\n",
    "        if n%i==0:\n",
    "            return False\n",
    "        return True\n",
    "isPrime(1)"
   ]
  },
  {
   "cell_type": "code",
   "execution_count": 6,
   "metadata": {},
   "outputs": [
    {
     "name": "stdout",
     "output_type": "stream",
     "text": [
      "3,5,7,9,11,13,15,17,19,21,23,25,27,29,31,33,35,37,39,41,43,45,47,49,51,53,55,57,59,61,63,65,67,69,71,73,75,77,79,81,83,85,87,89,91,93,95,97,99,"
     ]
    }
   ],
   "source": [
    "def isPrime(n): #(if num have 2 factors(1 & itself) is prime)1 to 100 prime\n",
    "    if n==1:\n",
    "        return False\n",
    "    for i in range(2,n):\n",
    "        if n%i==0:\n",
    "            return False\n",
    "        return True\n",
    "for j in range(1,101):\n",
    "    rs = isPrime(j)\n",
    "    if rs:\n",
    "        print(j,end=',')"
   ]
  },
  {
   "cell_type": "code",
   "execution_count": 12,
   "metadata": {},
   "outputs": [
    {
     "name": "stdout",
     "output_type": "stream",
     "text": [
      "[2, 3, 5, 7, 11, 13, 17, 19, 23, 29, 31, 37, 41, 43, 47, 53, 59, 61, 67, 71, 73, 79, 83, 89, 97]\n",
      "25\n",
      "1060\n",
      "97\n",
      "97\n",
      "2\n"
     ]
    }
   ],
   "source": [
    "def isPrime(n): #(if num have 2 factors(1 & itself) is prime)1 to 100 prime\n",
    "    if n==1:\n",
    "        return False\n",
    "    for i in range(2,n):\n",
    "        if n%i==0:\n",
    "            return False\n",
    "    return True\n",
    "primes = []\n",
    "for j in range(1,101):\n",
    "    rs = isPrime(j)\n",
    "    if rs:\n",
    "        #print(j,end=',')\n",
    "        primes.append(j)\n",
    "print(primes)\n",
    "# count of primes\n",
    "print(len(primes))\n",
    "#sum of primes b/w 1 - 100\n",
    "print(sum(primes))\n",
    "print(primes[-1])\n",
    "print(max(primes))\n",
    "print(min(primes))"
   ]
  },
  {
   "cell_type": "code",
   "execution_count": null,
   "metadata": {},
   "outputs": [],
   "source": []
  }
 ],
 "metadata": {
  "kernelspec": {
   "display_name": "Python 3",
   "language": "python",
   "name": "python3"
  },
  "language_info": {
   "codemirror_mode": {
    "name": "ipython",
    "version": 3
   },
   "file_extension": ".py",
   "mimetype": "text/x-python",
   "name": "python",
   "nbconvert_exporter": "python",
   "pygments_lexer": "ipython3",
   "version": "3.7.4"
  }
 },
 "nbformat": 4,
 "nbformat_minor": 4
}
