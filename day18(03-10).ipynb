{
 "cells": [
  {
   "cell_type": "code",
   "execution_count": 4,
   "metadata": {},
   "outputs": [
    {
     "name": "stdout",
     "output_type": "stream",
     "text": [
      "enter a number2\n",
      "enter a number10\n",
      "2 3 5 7 "
     ]
    }
   ],
   "source": [
    "first=int(input(\"enter a number\"))\n",
    "end=int(input(\"enter a number\"))\n",
    "for i in range(first,end+1):\n",
    "    if(i>1):\n",
    "        c=0\n",
    "        for j in range(2,i):\n",
    "            if(i%j==0):\n",
    "                c=c+1\n",
    "        if(c==0):\n",
    "                print(i,end=\" \")\n",
    "    else:\n",
    "            print(\"enter staring number from 2\")"
   ]
  },
  {
   "cell_type": "code",
   "execution_count": 5,
   "metadata": {},
   "outputs": [
    {
     "data": {
      "text/plain": [
       "'haranganesh'"
      ]
     },
     "execution_count": 5,
     "metadata": {},
     "output_type": "execute_result"
    }
   ],
   "source": [
    "# two strings,return their concation omit first character\n",
    "a=\"charan\"\n",
    "b=\"ganesh\"\n",
    "c=a+b\n",
    "c[1:]"
   ]
  },
  {
   "cell_type": "code",
   "execution_count": 2,
   "metadata": {},
   "outputs": [
    {
     "data": {
      "text/plain": [
       "'haran'"
      ]
     },
     "execution_count": 2,
     "metadata": {},
     "output_type": "execute_result"
    }
   ],
   "source": [
    "s=\"charan\"\n",
    "#\"haran\"\n",
    "s[1:]"
   ]
  },
  {
   "cell_type": "code",
   "execution_count": 3,
   "metadata": {},
   "outputs": [
    {
     "data": {
      "text/plain": [
       "'aran'"
      ]
     },
     "execution_count": 3,
     "metadata": {},
     "output_type": "execute_result"
    }
   ],
   "source": [
    "s[2:]"
   ]
  },
  {
   "cell_type": "code",
   "execution_count": 7,
   "metadata": {},
   "outputs": [
    {
     "name": "stdout",
     "output_type": "stream",
     "text": [
      "enter a stringcharan\n",
      "enter a stringganesh\n"
     ]
    },
    {
     "data": {
      "text/plain": [
       "'haranharan'"
      ]
     },
     "execution_count": 7,
     "metadata": {},
     "output_type": "execute_result"
    }
   ],
   "source": [
    "def concat(s1,s2):\n",
    "    s2=s[1:]+s1[1:]\n",
    "    return s2\n",
    "concat(input(\"enter a string\"),input(\"enter a string\"))"
   ]
  },
  {
   "cell_type": "code",
   "execution_count": 11,
   "metadata": {},
   "outputs": [
    {
     "name": "stdout",
     "output_type": "stream",
     "text": [
      "['welcome to charan\\n', 'hello everyone\\n', 'hello everyone']\n",
      "['welcome', 'to', 'charan']\n"
     ]
    },
    {
     "ename": "NameError",
     "evalue": "name 'work' is not defined",
     "output_type": "error",
     "traceback": [
      "\u001b[1;31m---------------------------------------------------------------------------\u001b[0m",
      "\u001b[1;31mNameError\u001b[0m                                 Traceback (most recent call last)",
      "\u001b[1;32m<ipython-input-11-98d6eeed6149>\u001b[0m in \u001b[0;36m<module>\u001b[1;34m\u001b[0m\n\u001b[0;32m      7\u001b[0m     \u001b[0mprint\u001b[0m\u001b[1;33m(\u001b[0m\u001b[0mwords\u001b[0m\u001b[1;33m)\u001b[0m\u001b[1;33m\u001b[0m\u001b[1;33m\u001b[0m\u001b[0m\n\u001b[0;32m      8\u001b[0m     \u001b[1;32mfor\u001b[0m \u001b[0mword\u001b[0m \u001b[1;32min\u001b[0m \u001b[0mwords\u001b[0m\u001b[1;33m:\u001b[0m\u001b[1;33m\u001b[0m\u001b[1;33m\u001b[0m\u001b[0m\n\u001b[1;32m----> 9\u001b[1;33m         \u001b[1;32mif\u001b[0m \u001b[0mwork\u001b[0m \u001b[1;32mnot\u001b[0m \u001b[1;32min\u001b[0m \u001b[0md\u001b[0m\u001b[1;33m:\u001b[0m\u001b[1;33m\u001b[0m\u001b[1;33m\u001b[0m\u001b[0m\n\u001b[0m\u001b[0;32m     10\u001b[0m             \u001b[0md\u001b[0m\u001b[1;33m[\u001b[0m\u001b[0mwork\u001b[0m\u001b[1;33m]\u001b[0m\u001b[1;33m=\u001b[0m\u001b[1;36m1\u001b[0m\u001b[1;33m\u001b[0m\u001b[1;33m\u001b[0m\u001b[0m\n\u001b[0;32m     11\u001b[0m         \u001b[1;32melse\u001b[0m\u001b[1;33m:\u001b[0m\u001b[1;33m\u001b[0m\u001b[1;33m\u001b[0m\u001b[0m\n",
      "\u001b[1;31mNameError\u001b[0m: name 'work' is not defined"
     ]
    }
   ],
   "source": [
    "d={}\n",
    "f=open(\"file.txt\",\"r\")\n",
    "data=f.readlines()\n",
    "print(data)\n",
    "for lines in data:\n",
    "    words=lines.split()\n",
    "    print(words)\n",
    "    for word in words:\n",
    "        if work not in d:\n",
    "            d[work]=1\n",
    "        else:\n",
    "            d[work]+=1\n",
    "print(d)\n",
    "f.close()"
   ]
  },
  {
   "cell_type": "code",
   "execution_count": 10,
   "metadata": {},
   "outputs": [
    {
     "name": "stdout",
     "output_type": "stream",
     "text": [
      "enter a data80\n",
      "enter a data8080\n",
      "enter a data80\n"
     ]
    }
   ],
   "source": [
    "for i in range(3):\n",
    "    f=open(\"ch.txt\",\"a\")\n",
    "    f.write((input(\"enter a data\"))+\"\\n\")\n",
    "    f.close()"
   ]
  },
  {
   "cell_type": "code",
   "execution_count": 11,
   "metadata": {},
   "outputs": [
    {
     "data": {
      "text/plain": [
       "23"
      ]
     },
     "execution_count": 11,
     "metadata": {},
     "output_type": "execute_result"
    }
   ],
   "source": [
    "a=\"23\"\n",
    "int(a)"
   ]
  },
  {
   "cell_type": "code",
   "execution_count": 16,
   "metadata": {},
   "outputs": [
    {
     "name": "stdout",
     "output_type": "stream",
     "text": [
      "['80\\n', '80\\n', '80\\n', '80\\n', '80\\n', '80\\n', '8080\\n', '80\\n'] line by line\n",
      "80\n",
      " number\n",
      "80 total sum\n",
      "80\n",
      " number\n",
      "160 total sum\n",
      "80\n",
      " number\n",
      "240 total sum\n",
      "80\n",
      " number\n",
      "320 total sum\n",
      "80\n",
      " number\n",
      "400 total sum\n",
      "80\n",
      " number\n",
      "480 total sum\n",
      "8080\n",
      " number\n",
      "8560 total sum\n",
      "80\n",
      " number\n",
      "8640 total sum\n"
     ]
    }
   ],
   "source": [
    "s=0\n",
    "f= open(\"ch.txt\",\"r\")\n",
    "data=f.readlines()\n",
    "print(data,\"line by line\")\n",
    "for ele in data:\n",
    "    print((ele),\"number\")\n",
    "    s=int(ele)+s\n",
    "    print(s,\"total sum\")\n",
    "f.close()"
   ]
  },
  {
   "cell_type": "code",
   "execution_count": 17,
   "metadata": {},
   "outputs": [
    {
     "name": "stdout",
     "output_type": "stream",
     "text": [
      "['80\\n', '80\\n', '80\\n', '80\\n', '80\\n', '80\\n', '8080\\n', '80\\n'] line by line\n",
      "80\n",
      "160\n",
      "240\n",
      "320\n",
      "400\n",
      "480\n",
      "8560\n",
      "8640\n"
     ]
    }
   ],
   "source": [
    "s=0\n",
    "f= open(\"ch.txt\",\"r\")\n",
    "data=f.readlines()\n",
    "print(data,\"line by line\")\n",
    "for ele in data:\n",
    "   # print((ele),\"number\")\n",
    "    s=int(ele)+s\n",
    "    print(s)\n",
    "   # print(s,\"total sum\")\n",
    "f.close()"
   ]
  },
  {
   "cell_type": "code",
   "execution_count": null,
   "metadata": {},
   "outputs": [],
   "source": []
  }
 ],
 "metadata": {
  "kernelspec": {
   "display_name": "Python 3",
   "language": "python",
   "name": "python3"
  },
  "language_info": {
   "codemirror_mode": {
    "name": "ipython",
    "version": 3
   },
   "file_extension": ".py",
   "mimetype": "text/x-python",
   "name": "python",
   "nbconvert_exporter": "python",
   "pygments_lexer": "ipython3",
   "version": "3.7.4"
  }
 },
 "nbformat": 4,
 "nbformat_minor": 4
}
