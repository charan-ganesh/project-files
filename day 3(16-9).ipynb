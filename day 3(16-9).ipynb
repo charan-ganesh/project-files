{
 "cells": [
  {
   "cell_type": "markdown",
   "metadata": {},
   "source": [
    "Jupyter installation¶\n",
    "to install jupyter we ahve to runb a cmd pip install jupyter\n",
    "to open jupyter notebook we have to run a cmd in command prompt i.e, jupyter notebook\n",
    "Main Heading\n",
    "#### sub Heading1\n",
    "## sub heading2\n",
    "i am h2 tag\n",
    "I am P tag\n",
    "\n",
    "iam tag"
   ]
  },
  {
   "cell_type": "code",
   "execution_count": 2,
   "metadata": {},
   "outputs": [
    {
     "name": "stdout",
     "output_type": "stream",
     "text": [
      "hi hello\n",
      "i am using jupyter notebook\n",
      "i am from guntur\n"
     ]
    },
    {
     "data": {
      "text/plain": [
       "60"
      ]
     },
     "execution_count": 2,
     "metadata": {},
     "output_type": "execute_result"
    }
   ],
   "source": [
    "print(\"hi hello\")\n",
    "print('i am using jupyter notebook')\n",
    "4+7\n",
    "print('i am from guntur')\n",
    "56+4"
   ]
  },
  {
   "cell_type": "code",
   "execution_count": null,
   "metadata": {},
   "outputs": [],
   "source": []
  }
 ],
 "metadata": {
  "kernelspec": {
   "display_name": "Python 3",
   "language": "python",
   "name": "python3"
  },
  "language_info": {
   "codemirror_mode": {
    "name": "ipython",
    "version": 3
   },
   "file_extension": ".py",
   "mimetype": "text/x-python",
   "name": "python",
   "nbconvert_exporter": "python",
   "pygments_lexer": "ipython3",
   "version": "3.7.4"
  }
 },
 "nbformat": 4,
 "nbformat_minor": 4
}
