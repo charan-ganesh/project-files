{
 "cells": [
  {
   "cell_type": "code",
   "execution_count": 8,
   "metadata": {
    "scrolled": true
   },
   "outputs": [
    {
     "name": "stdout",
     "output_type": "stream",
     "text": [
      "3\n",
      "positive\n"
     ]
    }
   ],
   "source": [
    "def pos(a):\n",
    "    if(a>=0):\n",
    "        print('positive')\n",
    "    else:\n",
    "        print('negative')\n",
    "a=int(input())\n",
    "pos(a)"
   ]
  },
  {
   "cell_type": "code",
   "execution_count": 45,
   "metadata": {},
   "outputs": [],
   "source": [
    "def even(a):\n",
    "    if a%2==0:\n",
    "        print('even')\n",
    "    else:\n",
    "        print('not even')"
   ]
  },
  {
   "cell_type": "code",
   "execution_count": 46,
   "metadata": {},
   "outputs": [
    {
     "name": "stdout",
     "output_type": "stream",
     "text": [
      "3\n",
      "not even\n"
     ]
    }
   ],
   "source": [
    "a=int(input())\n",
    "even(a)"
   ]
  },
  {
   "cell_type": "code",
   "execution_count": 49,
   "metadata": {},
   "outputs": [],
   "source": [
    "def vow(a):\n",
    "    if((a=='a') or (a=='e') or (a=='i') or (a=='o') or (a=='u')):\n",
    "        print('given character is vowel')\n",
    "    elif((a=='A') or (a=='E') or (a=='I') or (a=='O') or (a=='U')):\n",
    "        print('given character is vowel')\n",
    "    else:\n",
    "        print('constant')\n",
    "    "
   ]
  },
  {
   "cell_type": "code",
   "execution_count": 50,
   "metadata": {},
   "outputs": [
    {
     "name": "stdout",
     "output_type": "stream",
     "text": [
      "enter a character:f\n",
      "given character is vowel\n"
     ]
    }
   ],
   "source": [
    "a=input('enter a character:')\n",
    "vow(a)"
   ]
  },
  {
   "cell_type": "code",
   "execution_count": 15,
   "metadata": {},
   "outputs": [
    {
     "name": "stdout",
     "output_type": "stream",
     "text": [
      "1\n",
      "2\n",
      "not equal\n"
     ]
    }
   ],
   "source": [
    "def eq(a,b):\n",
    "    if(a==b):\n",
    "        print('equal')\n",
    "    else:\n",
    "        print('not equal')\n",
    "a=int(input())\n",
    "b=int(input())\n",
    "eq(a,b)"
   ]
  },
  {
   "cell_type": "code",
   "execution_count": 16,
   "metadata": {},
   "outputs": [
    {
     "name": "stdout",
     "output_type": "stream",
     "text": [
      "enter a value3\n",
      "enter a value1\n",
      "enter a value4\n",
      "4 is big\n"
     ]
    }
   ],
   "source": [
    "def big(a,b,c):\n",
    "    if((a>b) and (a>c)):\n",
    "        print(a,'is big')\n",
    "    elif(b>c):\n",
    "        print(b,'id big')\n",
    "    else:\n",
    "        print(c,'is big')\n",
    "a=int(input('enter a value'))\n",
    "b=int(input('enter a value'))\n",
    "c=int(input('enter a value'))\n",
    "big(a,b,c)\n"
   ]
  },
  {
   "cell_type": "code",
   "execution_count": 18,
   "metadata": {},
   "outputs": [
    {
     "name": "stdout",
     "output_type": "stream",
     "text": [
      "enter a value1\n",
      "enter a value3\n",
      "3 is bbig\n"
     ]
    }
   ],
   "source": [
    "def bigtwo(a,b):\n",
    "    if(a>b):\n",
    "        print(a,'is big')\n",
    "    else:\n",
    "        print(b, 'is big')\n",
    "a=int(input('enter a value'))\n",
    "b=int(input('enter a value'))\n",
    "bigtwo(a,b)\n"
   ]
  },
  {
   "cell_type": "code",
   "execution_count": 25,
   "metadata": {},
   "outputs": [
    {
     "name": "stdout",
     "output_type": "stream",
     "text": [
      "enter ur marks:34\n",
      "A grade\n"
     ]
    }
   ],
   "source": [
    "def grade(a):\n",
    "    if(a>=90 or a<=100):\n",
    "        print('A grade')\n",
    "    elif(a>=80 or a<90):\n",
    "        print('B grade')\n",
    "    elif(a>=70):\n",
    "        print('C grade')\n",
    "    else:\n",
    "        print('fail')\n",
    "a=int(input('enter ur marks:'))\n",
    "grade(a)       "
   ]
  },
  {
   "cell_type": "code",
   "execution_count": 28,
   "metadata": {},
   "outputs": [
    {
     "name": "stdout",
     "output_type": "stream",
     "text": [
      "10\n",
      "25\n"
     ]
    }
   ],
   "source": [
    "num=int(input())\n",
    "sm=0\n",
    "for i in range(1,num+1):\n",
    "    if(i%2==0):\n",
    "        pass\n",
    "    else:\n",
    "        sm+=i\n",
    "print(sm)"
   ]
  },
  {
   "cell_type": "code",
   "execution_count": 30,
   "metadata": {},
   "outputs": [
    {
     "name": "stdout",
     "output_type": "stream",
     "text": [
      "5\n",
      "6\n"
     ]
    }
   ],
   "source": [
    "num=int(input())\n",
    "sm=0\n",
    "for i in range(2,num+1):\n",
    "    if(i%2==0):\n",
    "        sm+=i\n",
    "print(sm)"
   ]
  },
  {
   "cell_type": "code",
   "execution_count": 40,
   "metadata": {},
   "outputs": [
    {
     "name": "stdout",
     "output_type": "stream",
     "text": [
      "10\n",
      "55\n"
     ]
    }
   ],
   "source": [
    "def nnatural(n):\n",
    "    sm = 0\n",
    "    for i in range(1,n+1):\n",
    "          sm+=i\n",
    "    return sm\n",
    "num=int(input())\n",
    "rs=nnatural(num)\n",
    "print(rs)"
   ]
  },
  {
   "cell_type": "code",
   "execution_count": 42,
   "metadata": {},
   "outputs": [
    {
     "name": "stdout",
     "output_type": "stream",
     "text": [
      "10\n",
      "3628800\n"
     ]
    }
   ],
   "source": [
    "def nproduct(n):\n",
    "    sm = 1\n",
    "    for i in range(1,n+1):\n",
    "          sm*=i\n",
    "    return sm\n",
    "num=int(input())\n",
    "rs=nproduct(num)\n",
    "print(rs)"
   ]
  },
  {
   "cell_type": "code",
   "execution_count": 47,
   "metadata": {},
   "outputs": [
    {
     "name": "stdout",
     "output_type": "stream",
     "text": [
      "1994\n",
      "not a leap year\n"
     ]
    }
   ],
   "source": [
    "def leap(a):\n",
    "    if(a%4==0):\n",
    "        print('leap year')\n",
    "    else:\n",
    "        print('not a leap year')\n",
    "def nnatural(n):\n",
    "    sm = 0\n",
    "    for i in range(1,n+1):\n",
    "          sm+=i\n",
    "    return sm\n",
    "num=int(input())\n",
    "leap(num)\n",
    "    "
   ]
  },
  {
   "cell_type": "code",
   "execution_count": null,
   "metadata": {},
   "outputs": [],
   "source": []
  }
 ],
 "metadata": {
  "kernelspec": {
   "display_name": "Python 3",
   "language": "python",
   "name": "python3"
  },
  "language_info": {
   "codemirror_mode": {
    "name": "ipython",
    "version": 3
   },
   "file_extension": ".py",
   "mimetype": "text/x-python",
   "name": "python",
   "nbconvert_exporter": "python",
   "pygments_lexer": "ipython3",
   "version": "3.7.4"
  }
 },
 "nbformat": 4,
 "nbformat_minor": 4
}
